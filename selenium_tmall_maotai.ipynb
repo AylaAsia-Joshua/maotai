{
 "cells": [
  {
   "cell_type": "code",
   "execution_count": 1,
   "metadata": {},
   "outputs": [],
   "source": [
    "import os\n",
    "import platform\n",
    "from time import sleep\n",
    "from random import choice\n",
    "from datetime import datetime as datetime\n",
    "\n",
    "from selenium import webdriver\n",
    "from selenium.common.exceptions import WebDriverException\n",
    "\n",
    "from selenium.webdriver.common.by import By\n",
    "from selenium.webdriver.support.ui import WebDriverWait\n",
    "from selenium.webdriver.support import expected_conditions as EC"
   ]
  },
  {
   "cell_type": "code",
   "execution_count": 2,
   "metadata": {},
   "outputs": [],
   "source": [
    "DRIVER_PATH = \"D:\\\\Projects\\\\drivers\\\\chromedriver.exe\"\n",
    "PAYPASS = '901225'\n",
    "# 添加一个变量或函数把抢购时间定义，是不是datetime变量更合适？\n",
    "KILL_TIME = '2021-01-10 20:00:00'"
   ]
  },
  {
   "cell_type": "code",
   "execution_count": 3,
   "metadata": {},
   "outputs": [],
   "source": [
    "driver = webdriver.Chrome(executable_path=DRIVER_PATH)"
   ]
  },
  {
   "cell_type": "code",
   "execution_count": 4,
   "metadata": {},
   "outputs": [
    {
     "data": {
      "text/plain": [
       "'\\nchrome_options构建，加速请求速度\\n'"
      ]
     },
     "execution_count": 4,
     "metadata": {},
     "output_type": "execute_result"
    }
   ],
   "source": [
    "\"\"\"\n",
    "chrome_options构建，加速请求速度\n",
    "\"\"\""
   ]
  },
  {
   "cell_type": "code",
   "execution_count": 5,
   "metadata": {},
   "outputs": [],
   "source": [
    "driver.get(\"https://cart.taobao.com/cart.htm\")\n",
    "kill_time = datetime.strptime(KILL_TIME,'%Y-%m-%d %H:%M:%S')"
   ]
  },
  {
   "cell_type": "code",
   "execution_count": null,
   "metadata": {},
   "outputs": [],
   "source": []
  },
  {
   "cell_type": "code",
   "execution_count": 6,
   "metadata": {},
   "outputs": [],
   "source": [
    "#先手动login,后面替换成自动\n",
    "def auto_login():\n",
    "    pass"
   ]
  },
  {
   "cell_type": "code",
   "execution_count": null,
   "metadata": {},
   "outputs": [],
   "source": []
  },
  {
   "cell_type": "code",
   "execution_count": 7,
   "metadata": {},
   "outputs": [],
   "source": [
    "def keep_wait():\n",
    "    while True:\n",
    "        if (datetime.now()-kill_time).microseconds <=100:\n",
    "            break\n",
    "        else:\n",
    "            print(\"当前时间{}持续等待\".format(datetime.now()))"
   ]
  },
  {
   "cell_type": "code",
   "execution_count": 8,
   "metadata": {},
   "outputs": [],
   "source": [
    "# def before_keep_wait():\n",
    "#     \"\"\"\n",
    "#     抢购前等待函数\n",
    "#     \"\"\"\n",
    "#     print('抢购前等待')\n",
    "#     while True:\n",
    "#         current_time = datetime.now()\n",
    "#         if(current_time-kill_time).seconds > 180:\n",
    "#             print('刷新购物车网页，防止卡死')\n",
    "#             driver.get(\"https://cart.taobao.com/cart.htm\")\n",
    "#             sleep(60)\n",
    "#         else:\n",
    "#             print('三分钟内开始抢购，准备开始')\n",
    "#             break"
   ]
  },
  {
   "cell_type": "code",
   "execution_count": 9,
   "metadata": {},
   "outputs": [],
   "source": [
    "def sec_kill():\n",
    "    \"\"\"\n",
    "    秒杀主函数\n",
    "    \"\"\"\n",
    "    \n",
    "    if driver.find_element_by_id(\"J_SelectAll1\"):\n",
    "        driver.find_element_by_id(\"J_SelectAll1\").click()\n",
    "        print(\"已经选中全部商品！！！\")       \n",
    "    submit_succ = False     \n",
    "    retry_count = 0\n",
    "    while True:\n",
    "        print(\"开始抢购，第%d次尝试\" % retry_count)\n",
    "        if submit_succ:\n",
    "            print(\"订单已经完成，无需继续抢购...\")\n",
    "            break\n",
    "            \n",
    "        while True:\n",
    "            try:\n",
    "                driver.find_element_by_link_text('提交订单')\n",
    "                break              \n",
    "            except Exception as e:\n",
    "                print(e)        \n",
    "            driver.find_element_by_id(\"J_Go\").click()\n",
    "            print('持续点击结算订单')\n",
    "        #         click_submit_times = 0            \n",
    "        while True:\n",
    "            try:       \n",
    "                driver.find_element_by_id('J_MarketinglList')\n",
    "                submit_succ = True\n",
    "                print(\"抢购成功，等着付钱吧\")\n",
    "                break\n",
    "            except Exception as e:\n",
    "                print(e)\n",
    "            driver.find_element_by_link_text('提交订单').click()\n",
    "            print(\"持续点击提交订单\")\n",
    "        \n",
    "        retry_count=retry_count+1"
   ]
  },
  {
   "cell_type": "code",
   "execution_count": null,
   "metadata": {},
   "outputs": [],
   "source": [
    "# #way2\n",
    "# before_keep_wait()\n",
    "# keep_wait()\n",
    "# sec_kill()"
   ]
  },
  {
   "cell_type": "code",
   "execution_count": 12,
   "metadata": {},
   "outputs": [
    {
     "name": "stdout",
     "output_type": "stream",
     "text": [
      "抢购前等待\n",
      "刷新购物车网页，防止卡死\n",
      "刷新购物车网页，防止卡死\n",
      "刷新购物车网页，防止卡死\n",
      "刷新购物车网页，防止卡死\n",
      "刷新购物车网页，防止卡死\n"
     ]
    },
    {
     "ename": "KeyboardInterrupt",
     "evalue": "",
     "output_type": "error",
     "traceback": [
      "\u001b[1;31m---------------------------------------------------------------------------\u001b[0m",
      "\u001b[1;31mKeyboardInterrupt\u001b[0m                         Traceback (most recent call last)",
      "\u001b[1;32m<ipython-input-12-51bb7f7e5ade>\u001b[0m in \u001b[0;36m<module>\u001b[1;34m\u001b[0m\n\u001b[0;32m      1\u001b[0m \u001b[1;31m#way1\u001b[0m\u001b[1;33m\u001b[0m\u001b[1;33m\u001b[0m\u001b[1;33m\u001b[0m\u001b[0m\n\u001b[0;32m      2\u001b[0m \u001b[1;33m\u001b[0m\u001b[0m\n\u001b[1;32m----> 3\u001b[1;33m \u001b[0mbefore_keep_wait\u001b[0m\u001b[1;33m(\u001b[0m\u001b[1;33m)\u001b[0m\u001b[1;33m\u001b[0m\u001b[1;33m\u001b[0m\u001b[0m\n\u001b[0m\u001b[0;32m      4\u001b[0m \u001b[0mkeep_wait\u001b[0m\u001b[1;33m(\u001b[0m\u001b[1;33m)\u001b[0m\u001b[1;33m\u001b[0m\u001b[1;33m\u001b[0m\u001b[0m\n\u001b[0;32m      5\u001b[0m \u001b[1;32mwhile\u001b[0m \u001b[1;32mTrue\u001b[0m\u001b[1;33m:\u001b[0m\u001b[1;33m\u001b[0m\u001b[1;33m\u001b[0m\u001b[0m\n",
      "\u001b[1;32m<ipython-input-8-ff1553f6eb3e>\u001b[0m in \u001b[0;36mbefore_keep_wait\u001b[1;34m()\u001b[0m\n\u001b[0;32m      9\u001b[0m             \u001b[0mprint\u001b[0m\u001b[1;33m(\u001b[0m\u001b[1;34m'刷新购物车网页，防止卡死'\u001b[0m\u001b[1;33m)\u001b[0m\u001b[1;33m\u001b[0m\u001b[1;33m\u001b[0m\u001b[0m\n\u001b[0;32m     10\u001b[0m             \u001b[0mdriver\u001b[0m\u001b[1;33m.\u001b[0m\u001b[0mget\u001b[0m\u001b[1;33m(\u001b[0m\u001b[1;34m\"https://cart.taobao.com/cart.htm\"\u001b[0m\u001b[1;33m)\u001b[0m\u001b[1;33m\u001b[0m\u001b[1;33m\u001b[0m\u001b[0m\n\u001b[1;32m---> 11\u001b[1;33m             \u001b[0msleep\u001b[0m\u001b[1;33m(\u001b[0m\u001b[1;36m60\u001b[0m\u001b[1;33m)\u001b[0m\u001b[1;33m\u001b[0m\u001b[1;33m\u001b[0m\u001b[0m\n\u001b[0m\u001b[0;32m     12\u001b[0m         \u001b[1;32melse\u001b[0m\u001b[1;33m:\u001b[0m\u001b[1;33m\u001b[0m\u001b[1;33m\u001b[0m\u001b[0m\n\u001b[0;32m     13\u001b[0m             \u001b[0mprint\u001b[0m\u001b[1;33m(\u001b[0m\u001b[1;34m'三分钟内开始请购，准备开始'\u001b[0m\u001b[1;33m)\u001b[0m\u001b[1;33m\u001b[0m\u001b[1;33m\u001b[0m\u001b[0m\n",
      "\u001b[1;31mKeyboardInterrupt\u001b[0m: "
     ]
    }
   ],
   "source": [
    "#way1\n",
    "\n",
    "before_keep_wait()\n",
    "keep_wait()\n",
    "while True:\n",
    "    try:\n",
    "        sec_kill()\n",
    "    except Exception as e:\n",
    "        print(e)"
   ]
  },
  {
   "cell_type": "code",
   "execution_count": null,
   "metadata": {},
   "outputs": [],
   "source": []
  },
  {
   "cell_type": "code",
   "execution_count": null,
   "metadata": {},
   "outputs": [],
   "source": []
  }
 ],
 "metadata": {
  "kernelspec": {
   "display_name": "spider",
   "language": "python",
   "name": "spider"
  },
  "language_info": {
   "codemirror_mode": {
    "name": "ipython",
    "version": 3
   },
   "file_extension": ".py",
   "mimetype": "text/x-python",
   "name": "python",
   "nbconvert_exporter": "python",
   "pygments_lexer": "ipython3",
   "version": "3.7.9"
  }
 },
 "nbformat": 4,
 "nbformat_minor": 4
}
